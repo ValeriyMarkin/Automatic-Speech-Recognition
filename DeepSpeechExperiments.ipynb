{
 "cells": [
  {
   "cell_type": "code",
   "execution_count": 1,
   "metadata": {},
   "outputs": [
    {
     "ename": "ModuleNotFoundError",
     "evalue": "No module named 'tensorflow'",
     "output_type": "error",
     "traceback": [
      "\u001b[0;31m---------------------------------------------------------------------------\u001b[0m",
      "\u001b[0;31mModuleNotFoundError\u001b[0m                       Traceback (most recent call last)",
      "\u001b[0;32m<ipython-input-1-584791f6a947>\u001b[0m in \u001b[0;36m<module>\u001b[0;34m\u001b[0m\n\u001b[1;32m      1\u001b[0m \u001b[0;32mimport\u001b[0m \u001b[0mnumpy\u001b[0m \u001b[0;32mas\u001b[0m \u001b[0mnp\u001b[0m\u001b[0;34m\u001b[0m\u001b[0;34m\u001b[0m\u001b[0m\n\u001b[0;32m----> 2\u001b[0;31m \u001b[0;32mimport\u001b[0m \u001b[0mtensorflow\u001b[0m \u001b[0;32mas\u001b[0m \u001b[0mtf\u001b[0m\u001b[0;34m\u001b[0m\u001b[0;34m\u001b[0m\u001b[0m\n\u001b[0m\u001b[1;32m      3\u001b[0m \u001b[0;32mimport\u001b[0m \u001b[0mos\u001b[0m\u001b[0;34m\u001b[0m\u001b[0;34m\u001b[0m\u001b[0m\n\u001b[1;32m      4\u001b[0m \u001b[0;32mimport\u001b[0m \u001b[0mautomatic_speech_recognition\u001b[0m \u001b[0;32mas\u001b[0m \u001b[0masr\u001b[0m\u001b[0;34m\u001b[0m\u001b[0;34m\u001b[0m\u001b[0m\n",
      "\u001b[0;31mModuleNotFoundError\u001b[0m: No module named 'tensorflow'"
     ]
    }
   ],
   "source": [
    "import numpy as np\n",
    "import tensorflow as tf\n",
    "import os\n",
    "import automatic_speech_recognition as asr"
   ]
  },
  {
   "cell_type": "markdown",
   "metadata": {},
   "source": [
    "# Train/Eval Part"
   ]
  },
  {
   "cell_type": "code",
   "execution_count": null,
   "metadata": {},
   "outputs": [],
   "source": [
    "dataset = asr.dataset.Audio.from_csv('./test.csv', batch_size=1, use_filesizes=False)\n",
    "dev_dataset = asr.dataset.Audio.from_csv('./test.csv', batch_size=1, use_filesizes=False)\n",
    "alphabet = asr.text.Alphabet(lang='en')\n",
    "features_extractor = asr.features.MFCC(\n",
    "    features_num=26,\n",
    "    is_standardization=False,\n",
    "    winlen=0.032,\n",
    "    winstep=0.02,\n",
    ")\n",
    "# model = asr.model.get_deepspeech(\n",
    "#     input_dim=26,\n",
    "#     output_dim=29,\n",
    "#     units=1024,\n",
    "#     random_state=24,\n",
    "#     dropouts=(0,0.0,0.0,0.0,0),\n",
    "#     context=9,\n",
    "#     # rnn_units=800,\n",
    "#     # is_mixed_precision=False,\n",
    "# )\n",
    "model = asr.model.load_mozila_deepspeech('./data/myfrozen.pb')\n",
    "optimizer = tf.optimizers.Adam(\n",
    "    lr=1e-3,\n",
    "    beta_1=0.9,\n",
    "    beta_2=0.999\n",
    ")\n",
    "decoder = asr.decoder.GreedyDecoder()\n",
    "pipeline = asr.pipeline.CTCPipeline(\n",
    "    alphabet, features_extractor, model, optimizer, decoder\n",
    ")\n",
    "callbacks = []\n",
    "# pipeline.fit(dataset, dev_dataset, epochs=1000, callbacks=callbacks)\n",
    "# pipeline.save('./checkpoint')\n",
    "\n",
    "test_dataset = asr.dataset.Audio.from_csv('./test.csv', batch_size=1, use_filesizes=False)\n",
    "wer, cer = asr.evaluate.calculate_error_rates(pipeline, test_dataset, print_pred=True)\n",
    "print(f'WER: {wer}   CER: {cer}')\n"
   ]
  },
  {
   "cell_type": "markdown",
   "metadata": {},
   "source": [
    "# Export Part"
   ]
  },
  {
   "cell_type": "code",
   "execution_count": null,
   "metadata": {},
   "outputs": [],
   "source": [
    "model = asr.model.load_mozila_deepspeech('./data/myfrozen.pb', tflite_version=True)\n",
    "\n",
    "exporter = KerasTfLiteExporter(model, skip_on_load_fail=True)\n",
    "exporter.experimental_new_converter = True\n",
    "exporter.allow_custom_ops = True\n",
    "exporter.export('./model.tflite')\n"
   ]
  }
 ],
 "metadata": {
  "kernelspec": {
   "display_name": "Python 3",
   "language": "python",
   "name": "python3"
  },
  "language_info": {
   "codemirror_mode": {
    "name": "ipython",
    "version": 3
   },
   "file_extension": ".py",
   "mimetype": "text/x-python",
   "name": "python",
   "nbconvert_exporter": "python",
   "pygments_lexer": "ipython3",
   "version": "3.7.4"
  }
 },
 "nbformat": 4,
 "nbformat_minor": 4
}
